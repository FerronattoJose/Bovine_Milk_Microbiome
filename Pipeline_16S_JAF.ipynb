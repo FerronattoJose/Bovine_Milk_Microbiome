{
  "nbformat": 4,
  "nbformat_minor": 0,
  "metadata": {
    "colab": {
      "provenance": [],
      "toc_visible": true,
      "authorship_tag": "ABX9TyNb4OivubPGIlxq6D49/CT4",
      "include_colab_link": true
    },
    "kernelspec": {
      "name": "python3",
      "display_name": "Python 3"
    },
    "language_info": {
      "name": "python"
    }
  },
  "cells": [
    {
      "cell_type": "markdown",
      "metadata": {
        "id": "view-in-github",
        "colab_type": "text"
      },
      "source": [
        "<a href=\"https://colab.research.google.com/github/FerronattoJose/Bovine_Milk_Microbiome/blob/main/Pipeline_16S_JAF.ipynb\" target=\"_parent\"><img src=\"https://colab.research.google.com/assets/colab-badge.svg\" alt=\"Open In Colab\"/></a>"
      ]
    },
    {
      "cell_type": "markdown",
      "source": [
        "## QIIME 2"
      ],
      "metadata": {
        "id": "kKD9gZKW51S2"
      }
    },
    {
      "cell_type": "markdown",
      "source": [
        "## Importing Data into QIIME 2"
      ],
      "metadata": {
        "id": "faLbeuX0yqwr"
      }
    },
    {
      "cell_type": "code",
      "source": [
        "qiime tools import \\\n",
        "  --type 'SampleData[PairedEndSequencesWithQuality]' \\\n",
        "  --input- .gz \\\n",
        "  --input-format CasavaOneEightSingleLanePerSampleDirFmt \\\n",
        "  --output-path demux-paired-end.qza"
      ],
      "metadata": {
        "id": "2cXEFNxWyumP"
      },
      "execution_count": null,
      "outputs": []
    },
    {
      "cell_type": "markdown",
      "source": [
        "This command imports raw paired-end sequencing data into QIIME 2."
      ],
      "metadata": {
        "id": "audZZxdyzosy"
      }
    },
    {
      "cell_type": "markdown",
      "source": [
        "## Removing Primers with Cutadapt"
      ],
      "metadata": {
        "id": "5I7ZRpCAy56P"
      }
    },
    {
      "cell_type": "code",
      "source": [
        "qiime cutadapt trim-paired \\\n",
        "--i-demultiplexed-sequences demux.qza \\\n",
        "--p-front-f TCGTCGGCAGCGTCAGATGTGTATAAGAGACAGCCTACGGGNGGCWGCAG \\\n",
        "--p-front-r GTCTCGTGGGCTCGGAGATGTGTATAAGAGACAGGACTACHVGGGTATCTAATCC \\\n",
        "--p-discard-untrimmed \\\n",
        "--verbose \\\n",
        "--o-trimmed-sequences trimmed_remove_primers.qza"
      ],
      "metadata": {
        "id": "2Wmi3Ic_y9q0"
      },
      "execution_count": null,
      "outputs": []
    },
    {
      "cell_type": "markdown",
      "source": [
        "This command removes primers from the sequences using Cutadapt."
      ],
      "metadata": {
        "id": "G-ywj_uIzr0e"
      }
    },
    {
      "cell_type": "markdown",
      "source": [
        "## Extracting Trimmed Reads"
      ],
      "metadata": {
        "id": "mOuDotv0zK-K"
      }
    },
    {
      "cell_type": "code",
      "source": [
        "qiime tools extract --input-path trimmed_remove_primers.qza  --output-path extracted_reads"
      ],
      "metadata": {
        "id": "AJ904xJmzcLW"
      },
      "execution_count": null,
      "outputs": []
    },
    {
      "cell_type": "markdown",
      "source": [
        "This command extracts the processed reads from the QIIME 2 artifact for inspection."
      ],
      "metadata": {
        "id": "d2_I6KbUzvki"
      }
    },
    {
      "cell_type": "markdown",
      "source": [
        "## Summarizing the demultiplexed sequences"
      ],
      "metadata": {
        "id": "Lf5HnO1302X7"
      }
    },
    {
      "cell_type": "markdown",
      "source": [
        "qiime demux summarize --i-data demux.qza --o-visualization demux.qzv\n"
      ],
      "metadata": {
        "id": "ElxOC2yc03lp"
      }
    },
    {
      "cell_type": "markdown",
      "source": [
        "Generates a summary of the demultiplexed sequences, including quality plots."
      ],
      "metadata": {
        "id": "l23FMVcW06Vj"
      }
    },
    {
      "cell_type": "markdown",
      "source": [
        "## Denoising with DADA2 (single-end reads)"
      ],
      "metadata": {
        "id": "XAeas8zI0-3L"
      }
    },
    {
      "cell_type": "markdown",
      "source": [
        "qiime dada2 denoise-single \\\n",
        "--i-demultiplexed-seqs demux.qza \\\n",
        "--p-trim-left 10 \\\n",
        "--p-trunc-len 200 \\\n",
        "--o-representative-sequences rep-seqs-dada2.qza \\\n",
        "--o-table table-dada2.qza \\\n",
        "--o-denoising-stats stats-dada2.qza \\\n",
        "--p-n-threads 0\n"
      ],
      "metadata": {
        "id": "U-jCkYX31CUe"
      }
    },
    {
      "cell_type": "markdown",
      "source": [
        "Performs quality filtering, error correction, merging (if needed), and chimera removal using the DADA2 algorithm."
      ],
      "metadata": {
        "id": "oA9xqLl51Iy2"
      }
    },
    {
      "cell_type": "markdown",
      "source": [
        "## Summarizing the feature table"
      ],
      "metadata": {
        "id": "woDoSrNQ1O60"
      }
    },
    {
      "cell_type": "code",
      "source": [
        "qiime feature-table summarize \\\n",
        "--i-table table.qza \\\n",
        "--o-visualization table.qzv\n"
      ],
      "metadata": {
        "id": "v_CD4EU-1TZ9"
      },
      "execution_count": null,
      "outputs": []
    },
    {
      "cell_type": "markdown",
      "source": [
        "Creates a summary visualization of the ASV table, showing sequencing depth per sample."
      ],
      "metadata": {
        "id": "nhZnbDj81WCi"
      }
    },
    {
      "cell_type": "markdown",
      "source": [
        "## Viewing representative sequences"
      ],
      "metadata": {
        "id": "b8eqVEsK1Yxu"
      }
    },
    {
      "cell_type": "code",
      "source": [
        "qiime feature-table tabulate-seqs --i-data rep-seqs.qza --o-visualization rep-seqs.qzv\n"
      ],
      "metadata": {
        "id": "xr9R6qiF1coV"
      },
      "execution_count": null,
      "outputs": []
    },
    {
      "cell_type": "markdown",
      "source": [
        "Generates a table displaying the representative sequences (ASVs) with sequence IDs."
      ],
      "metadata": {
        "id": "UthXO8AP1et6"
      }
    },
    {
      "cell_type": "markdown",
      "source": [
        "## Viewing DADA2 denoising statistics"
      ],
      "metadata": {
        "id": "YfAKuTJ-1ixL"
      }
    },
    {
      "cell_type": "code",
      "source": [
        "qiime metadata tabulate --m-input-file stats-dada2.qza --o-visualization stats-dada2.qzv\n"
      ],
      "metadata": {
        "id": "DiFq7XtT1oQn"
      },
      "execution_count": null,
      "outputs": []
    },
    {
      "cell_type": "markdown",
      "source": [
        "Creates a visualization summarizing DADA2 processing statistics (e.g., how many sequences were retained at each step). P.s. all qzv files were viewed at https://view.qiime2.org/"
      ],
      "metadata": {
        "id": "PXukg_o91qRv"
      }
    },
    {
      "cell_type": "markdown",
      "source": [
        "## Summarizing the feature table with metadata"
      ],
      "metadata": {
        "id": "E9DwN0Wc2A9N"
      }
    },
    {
      "cell_type": "code",
      "source": [
        "qiime feature-table summarize --i-table table.qza --o-visualization table.qzv --m-sample-metadata-file metadata.txt\n"
      ],
      "metadata": {
        "id": "b79L5cqO2Jah"
      },
      "execution_count": null,
      "outputs": []
    },
    {
      "cell_type": "markdown",
      "source": [
        "Creates a summary visualization of the feature table while incorporating sample metadata."
      ],
      "metadata": {
        "id": "8xoivb5m2Ljf"
      }
    },
    {
      "cell_type": "markdown",
      "source": [
        "## Building a phylogenetic tree"
      ],
      "metadata": {
        "id": "qsa2vD2V2OEo"
      }
    },
    {
      "cell_type": "code",
      "source": [
        "qiime phylogeny align-to-tree-mafft-fasttree \\\n",
        "--i-sequences rep-seqs.qza \\\n",
        "--o-alignment aligned-rep-seqs.qza \\\n",
        "--o-masked-alignment masked-aligned-rep-seqs.qza \\\n",
        "--o-tree unrooted-tree.qza \\\n",
        "--o-rooted-tree rooted-tree.qza\n"
      ],
      "metadata": {
        "id": "Jw_FWsPM2SXr"
      },
      "execution_count": null,
      "outputs": []
    },
    {
      "cell_type": "markdown",
      "source": [
        "Constructs a phylogenetic tree of representative sequences for phylogeny-based analyses (e.g., UniFrac)."
      ],
      "metadata": {
        "id": "sw4_j1KC2Xmp"
      }
    },
    {
      "cell_type": "markdown",
      "source": [
        "## Taxonomic classification"
      ],
      "metadata": {
        "id": "H0RD73s02bJL"
      }
    },
    {
      "cell_type": "code",
      "source": [
        "qiime feature-classifier classify-sklearn \\\n",
        "--i-classifier silva-138.2-ssu-nr99-classifier \\\n",
        "--i-reads rep-seqs.qza \\\n",
        "--o-classification taxonomy.qza\n"
      ],
      "metadata": {
        "id": "323FFKPg2fhb"
      },
      "execution_count": null,
      "outputs": []
    },
    {
      "cell_type": "markdown",
      "source": [
        "Assigns taxonomy to representative sequences using a trained classifier."
      ],
      "metadata": {
        "id": "msCVTnAC2jEt"
      }
    },
    {
      "cell_type": "markdown",
      "source": [
        "## Transposing the feature table"
      ],
      "metadata": {
        "id": "sR0XNnkx2lY4"
      }
    },
    {
      "cell_type": "code",
      "source": [
        "qiime feature-table transpose \\\n",
        "  --i-table table.qza \\\n",
        "  --o-transposed-feature-table transposed-table.qza\n"
      ],
      "metadata": {
        "id": "W5IalcXs22cu"
      },
      "execution_count": null,
      "outputs": []
    },
    {
      "cell_type": "markdown",
      "source": [
        "This command transposes the feature table, swapping features (ASVs/OTUs) and samples."
      ],
      "metadata": {
        "id": "oNUwGgPP24jR"
      }
    },
    {
      "cell_type": "markdown",
      "source": [
        "## Merging metadata tables"
      ],
      "metadata": {
        "id": "7FJsxvmz29uW"
      }
    },
    {
      "cell_type": "code",
      "source": [
        "qiime metadata tabulate \\\n",
        "  --m-input-file transposed-table.qza \\\n",
        "  --m-input-file taxonomy.qza \\\n",
        "  --m-input-file rep-seqs.qza \\\n",
        "  --o-visualization merged.qzv\n"
      ],
      "metadata": {
        "id": "76FzWQqK3LQM"
      },
      "execution_count": null,
      "outputs": []
    },
    {
      "cell_type": "markdown",
      "source": [
        "This command merges multiple metadata sources into a single visual file."
      ],
      "metadata": {
        "id": "thpsEND53OIU"
      }
    },
    {
      "cell_type": "markdown",
      "source": [
        "## Viewing taxonomic classifications"
      ],
      "metadata": {
        "id": "S4to9wJW3SUf"
      }
    },
    {
      "cell_type": "code",
      "source": [
        "qiime metadata tabulate --m-input-file taxonomy.qza --o-visualization taxonomy.qzv\n"
      ],
      "metadata": {
        "id": "0Jig6-f93Vr4"
      },
      "execution_count": null,
      "outputs": []
    },
    {
      "cell_type": "markdown",
      "source": [
        "Creates a visualization of the taxonomic classifications for each ASV."
      ],
      "metadata": {
        "id": "gqN476Kb3ZER"
      }
    },
    {
      "cell_type": "markdown",
      "source": [
        "## Filtering features based on taxonomy"
      ],
      "metadata": {
        "id": "GV415YEG3b06"
      }
    },
    {
      "cell_type": "code",
      "source": [
        "qiime feature-table filter-features \\\n",
        "  --i-table table.qza \\\n",
        "  --m-metadata-file taxonomy.qza \\\n",
        "  --o-filtered-table id-filtered-table.qza\n"
      ],
      "metadata": {
        "id": "B-ZGQV1D3e5i"
      },
      "execution_count": null,
      "outputs": []
    },
    {
      "cell_type": "markdown",
      "source": [
        "Filters the feature table to keep only features that have taxonomic assignments."
      ],
      "metadata": {
        "id": "BPdeG3_J3hih"
      }
    },
    {
      "cell_type": "markdown",
      "source": [
        "## Collapsing the feature table to genus level"
      ],
      "metadata": {
        "id": "oLQxAMIi3jqT"
      }
    },
    {
      "cell_type": "code",
      "source": [
        "qiime taxa collapse \\\n",
        "  --i-table id-filtered-table.qza \\\n",
        "  --i-taxonomy taxonomy.qza \\\n",
        "  --p-level 6 \\\n",
        "  --o-collapsed-table genus_table.qza\n"
      ],
      "metadata": {
        "id": "3OjKZ0i_3m54"
      },
      "execution_count": null,
      "outputs": []
    },
    {
      "cell_type": "markdown",
      "source": [
        "Collapses ASVs to the genus level (L6) by summing their abundances."
      ],
      "metadata": {
        "id": "4TuOwpUj3qUL"
      }
    },
    {
      "cell_type": "markdown",
      "source": [
        "## Creating a taxonomy bar plot"
      ],
      "metadata": {
        "id": "kl_yxcGN3sqK"
      }
    },
    {
      "cell_type": "code",
      "source": [
        "qiime taxa barplot \\\n",
        "  --i-table id-filtered-table.qza \\\n",
        "  --i-taxonomy taxonomy.qza \\\n",
        "  --m-metadata-file metadata.txt \\\n",
        "  --o-visualization taxa-bar-plots.qzv\n"
      ],
      "metadata": {
        "id": "WDF43YdN3wV5"
      },
      "execution_count": null,
      "outputs": []
    },
    {
      "cell_type": "markdown",
      "source": [
        "Generates a taxonomic bar plot showing relative abundances of different taxa per sample."
      ],
      "metadata": {
        "id": "BII_J64e3zPB"
      }
    },
    {
      "cell_type": "markdown",
      "source": [
        "## Exporting feature tables and taxonomy"
      ],
      "metadata": {
        "id": "JBYSDRsP31ov"
      }
    },
    {
      "cell_type": "code",
      "source": [
        "qiime tools export --input-path genus_table-l6.qza --output-path exported-feature-table\n",
        "qiime tools export --input-path taxonomy.qza --output-path exported-feature-table\n"
      ],
      "metadata": {
        "id": "gJbfxA5N37ai"
      },
      "execution_count": null,
      "outputs": []
    },
    {
      "cell_type": "markdown",
      "source": [
        "Exports the genus-level feature table and taxonomy assignments as external files."
      ],
      "metadata": {
        "id": "BlaL38YJ3_YW"
      }
    },
    {
      "cell_type": "markdown",
      "source": [
        "## Filtering out unwanted taxa"
      ],
      "metadata": {
        "id": "3Tu2uhPm4BdH"
      }
    },
    {
      "cell_type": "code",
      "source": [
        "qiime taxa filter-table \\\n",
        "  --i-table id-filtered-table.qza \\\n",
        "  --i-taxonomy taxonomy.qza \\\n",
        "  --p-exclude Unassigned,d__Archaea,p__Chloroflexi,p__Cyanobacteria,g__Mitochondria \\\n",
        "  --o-filtered-table filtered_table.qza\n"
      ],
      "metadata": {
        "id": "fts9gKlq4E5f"
      },
      "execution_count": null,
      "outputs": []
    },
    {
      "cell_type": "markdown",
      "source": [
        "Removes specific unwanted taxa from the feature table."
      ],
      "metadata": {
        "id": "hrjquZsg4ION"
      }
    },
    {
      "cell_type": "markdown",
      "source": [
        "## Converting BIOM to TSV format"
      ],
      "metadata": {
        "id": "5ox8A2aa4KHc"
      }
    },
    {
      "cell_type": "code",
      "source": [
        "biom convert -i feature-table.biom -o table.from_biom.txt --to-tsv\n"
      ],
      "metadata": {
        "id": "DJwNqdx84PGO"
      },
      "execution_count": null,
      "outputs": []
    },
    {
      "cell_type": "markdown",
      "source": [
        "Converts the BIOM (Binary OTU Table) format into a human-readable TSV (tab-separated values) format."
      ],
      "metadata": {
        "id": "ejFFuyz94RuV"
      }
    },
    {
      "cell_type": "markdown",
      "source": [
        "# Rstudio"
      ],
      "metadata": {
        "id": "BptE4-m24ZOG"
      }
    },
    {
      "cell_type": "markdown",
      "source": [
        "## Reading Data from QIIME 2"
      ],
      "metadata": {
        "id": "mSyEwOCb7Fyq"
      }
    },
    {
      "cell_type": "code",
      "source": [
        "library(phyloseq)   # For microbiome analysis\n",
        "library(qiime2R)    # To read QIIME 2 files (.qza)\n",
        "library(dplyr)      # For data manipulation\n",
        "library(tidyverse)  # For general data processing\n",
        "\n",
        "#Load your data\n",
        "SVs <- read_qza(\"table.qza\")\n",
        "metadata <- read_q2metadata(\"metadata.tsv\")\n",
        "head(metadata) # show top lines of metadata\n",
        "\n",
        "taxonomy <- read_qza(\"taxonomy.qza\")\n",
        "head(taxonomy$data)\n",
        "\n"
      ],
      "metadata": {
        "id": "MnR1PNq67JWx"
      },
      "execution_count": null,
      "outputs": []
    },
    {
      "cell_type": "markdown",
      "source": [
        "## Creating a Phyloseq Object"
      ],
      "metadata": {
        "id": "sG1k8uBE7f-t"
      }
    },
    {
      "cell_type": "code",
      "source": [
        "#Combines the feature table, tree, taxonomy, and metadata into a phyloseq object.\n",
        "physeq <- qza_to_phyloseq(\n",
        "  features=\"table.qza\",\n",
        "  tree=\"rooted-tree.qza\",\n",
        "  taxonomy=\"taxonomy.qza\",\n",
        "  metadata = \"metadata.tsv\"\n",
        ")\n",
        "physeq\n",
        "\n",
        "\n",
        "#save the phyloseq object\n",
        "saveRDS(physeq, \"physeq\")\n"
      ],
      "metadata": {
        "id": "ja5TYwJX7h01"
      },
      "execution_count": null,
      "outputs": []
    },
    {
      "cell_type": "markdown",
      "source": [
        "## Extracting Unique Genera"
      ],
      "metadata": {
        "id": "yf-UnYdT8COM"
      }
    },
    {
      "cell_type": "code",
      "source": [
        "#Extracts and lists the unique genus-level classifications.\n",
        "unique(tax_table(physeq)[,\"Genus\"])\n",
        "\n",
        "#Assigns unique ASV names (ASV1, ASV2, etc.) and adds the original ASV sequence as a new column in the taxonomy table.\n",
        "taxa_names(physeq) <- paste0(\"ASV\", seq(ntaxa(physeq)))\n",
        "tax_table(physeq) <- cbind(tax_table(physeq),\n",
        "                           rownames(tax_table(physeq)))\n",
        "head(taxa_names(physeq))\n",
        "\n",
        "\n",
        "#Renames the columns of the taxonomy table for clarity.\n",
        "colnames(tax_table(physeq)) <- c(\"Kingdom\", \"Phylum\", \"Class\", \"Order\",\n",
        "                                 \"Family\", \"Genus\", \"ASV_SEQ\", \"ASV_ID\")\n",
        "\n"
      ],
      "metadata": {
        "id": "Cs2yOQeM8DYL"
      },
      "execution_count": null,
      "outputs": []
    },
    {
      "cell_type": "markdown",
      "source": [
        "## Filtering Unwanted Taxa"
      ],
      "metadata": {
        "id": "kzk1JtF08eAb"
      }
    },
    {
      "cell_type": "code",
      "source": [
        "#Removes Eukaryota sequences.\n",
        "EU1 <- subset_taxa(physeq, Kingdom == \"d__Eukaryota\")\n",
        "EU1 <- as(tax_table(EU1), \"matrix\")\n",
        "EU1 <- EU1[, 8]\n",
        "EU1df <- as.factor(EU1)\n",
        "goodTaxa <- setdiff(taxa_names(physeq), EU1df)\n",
        "phyloseq_no_euk <- prune_taxa(goodTaxa, physeq)\n",
        "\n",
        "#Removes ASVs that are unassigned at the kingdom level.\n",
        "NA1 <- subset_taxa(physeq, Kingdom == \"Unassigned\")\n",
        "NA1 <- as(tax_table(NA1), \"matrix\")\n",
        "NA1 <- NA1[, 8]\n",
        "NA1df <- as.factor(NA1)\n",
        "goodTaxa <- setdiff(taxa_names(physeq), NA1df)\n",
        "phyloseq_no_NA <- prune_taxa(goodTaxa, physeq)\n",
        "\n",
        "#Removes Archaea sequences.\n",
        "NA2 <- subset_taxa(phyloseq_no_NA, Kingdom == \"d__Archaea\")\n",
        "NA2 <- as(tax_table(NA2), \"matrix\")\n",
        "NA2 <- NA2[, 8]\n",
        "NA2df <- as.factor(NA2)\n",
        "goodTaxa <- setdiff(taxa_names(phyloseq_no_NA), NA2df)\n",
        "phyloseq_no_Arch <- prune_taxa(goodTaxa, phyloseq_no_NA)\n",
        "\n",
        "#Removes Cyanobacteria sequences.\n",
        "NA3 <- subset_taxa(phyloseq_no_Arch, Phylum == \"Cyanobacteriota\")\n",
        "NA3 <- as(tax_table(NA3), \"matrix\")\n",
        "NA3 <- NA3[, 8]\n",
        "NA3df <- as.factor(NA3)\n",
        "goodTaxa <- setdiff(taxa_names(phyloseq_no_Arch), NA3df)\n",
        "phyloseq_no_Cyano <- prune_taxa(goodTaxa, phyloseq_no_Arch)\n",
        "\n",
        "#Removes Mitochondria sequences.\n",
        "NA4 <- subset_taxa(phyloseq_no_Cyano, Family == \"Mitochondria\")\n",
        "NA4 <- as(tax_table(NA4), \"matrix\")\n",
        "NA4 <- NA4[, 8]\n",
        "NA4df <- as.factor(NA4)\n",
        "goodTaxa <- setdiff(taxa_names(phyloseq_no_Cyano), NA4df)\n",
        "phyloseq_no_Unidentified <- prune_taxa(goodTaxa, phyloseq_no_Cyano)\n",
        "\n",
        "\n",
        "#Filters out taxa that do not have a Phylum classification and removes unidentified taxa (e.g., those labeled as NA at the Phylum level).\n",
        "phyloseq <- subset_taxa(phyloseq_no_Unidentified, !is.na(Phylum))\n",
        "phyloseq\n",
        "\n",
        "#Replaces \"d__Bacteria\" with a cleaner name: \"Bacteria\" and ensures consistency in taxonomy labels.\n",
        "tax_table(phyloseq)[tax_table(phyloseq) == \"d__Bacteria\"] <- \"Bacteria\"\n",
        "\n",
        ""
      ],
      "metadata": {
        "id": "GOJ8MrVP8g6H"
      },
      "execution_count": null,
      "outputs": []
    },
    {
      "cell_type": "markdown",
      "source": [
        "## Decontam"
      ],
      "metadata": {
        "id": "Etf74jKS_tuj"
      }
    },
    {
      "cell_type": "code",
      "source": [
        "#https://benjjneb.github.io/decontam/vignettes/decontam_intro.html\n",
        "\n",
        "#Identifying Contaminants via FREQUENCY Method\n",
        "#Base on DNA concentration\n",
        "\n",
        "\n",
        "# Assigning phyloseq object\n",
        "ps5 <- phyloseq\n",
        "\n",
        "# Checking sample metadata\n",
        "head(sample_data(ps5))\n",
        "\n",
        "#Computes library sizes (total reads per sample) and sorts them and plots a scatter plot to visualize sequencing depth by sample type.\n",
        "df <- as.data.frame(sample_data(ps5))  # Convert sample metadata to a data frame\n",
        "df$LibrarySize <- sample_sums(ps5)     # Compute library size (total reads per sample)\n",
        "df <- df[order(df$LibrarySize),]       # Order samples by library size\n",
        "df$Index <- seq(nrow(df))              # Create an index for plotting\n",
        "\n",
        "# Scatter plot of library size\n",
        "ggplot(data=df, aes(x=Index, y=LibrarySize, color=Sample_or_control)) +\n",
        "  geom_point()\n",
        "\n",
        "#Uses the FREQUENCY method to detect contaminants, based on DNA concentration (quant_reading). Contaminants are identified when their abundance correlates with concentration.\n",
        "contam.freq5 <- isContaminant(ps5, conc=\"quant_reading\", method=\"frequency\", threshold=0.5)\n",
        "\n",
        "temp_contam.freq5 <- contam.freq5\n",
        "rownames(temp_contam.freq5) <- paste0(\"SV\",seq(nrow(temp_contam.freq5)))  # Shorten row names\n",
        "print(head(temp_contam.freq5))  # Show first 10 rows\n",
        "\n",
        "#Randomly selects a contaminant and plots its abundance vs. concentration.\n",
        "set.seed(100)\n",
        "plot_frequency(ps5, taxa_names(ps5)[sample(which(contam.freq5$contaminant),1)], conc=\"quant_reading\")\n",
        "\n",
        "\n",
        "#Identifying Contaminants via PREVALENCE Method\n",
        "#Base on NEG1 (DNA extraction control)\n",
        "\n",
        "ps5.1 <- phyloseq\n",
        "\n",
        "# Compute library size\n",
        "df <- as.data.frame(sample_data(ps5.1))\n",
        "df$LibrarySize <- sample_sums(ps5.1)\n",
        "df <- df[order(df$LibrarySize),]\n",
        "df$Index <- seq(nrow(df))\n",
        "\n",
        "# Scatter plot\n",
        "ggplot(data=df, aes(x=Index, y=LibrarySize, color=Sample_or_control)) +\n",
        "  geom_point()\n",
        "\n",
        "# Define negative control\n",
        "sample_data(ps5.1)$is.neg <- sample_data(ps5.1)$Sample_or_control == \"NEG1\"\n",
        "\n",
        "# Identify contaminants\n",
        "contamdf.prev <- isContaminant(ps5.1, method=\"prevalence\", neg=\"is.neg\")\n",
        "table(contamdf.prev$contaminant)\n",
        "head(which(contamdf.prev$contaminant))\n",
        "\n",
        "# Apply threshold 0.5\n",
        "contamdf.prev05 <- isContaminant(ps5.1, method=\"prevalence\", neg=\"is.neg\", threshold=0.5)\n",
        "table(contamdf.prev05$contaminant)\n",
        "\n",
        "#Visualizing Prevalence in \"NEG1\" vs. True Samples.\n",
        "ps5.1.pa <- transform_sample_counts(ps5.1, function(abund) 1*(abund>0))\n",
        "ps5.1.pa.neg <- prune_samples(sample_data(ps5.1.pa)$Sample_or_control == \"NEG1\", ps5.1.pa)\n",
        "ps5.1.pa.pos <- prune_samples(sample_data(ps5.1.pa)$Sample_or_control == \"True_Sample\", ps5.1.pa)\n",
        "\n",
        "df.pa <- data.frame(pa.pos=taxa_sums(ps5.1.pa.pos), pa.neg=taxa_sums(ps5.1.pa.neg),\n",
        "                    contaminant=contamdf.prev$contaminant)\n",
        "\n",
        "ggplot(data=df.pa, aes(x=pa.neg, y=pa.pos, color=contaminant)) +\n",
        "  geom_point() +\n",
        "  xlab(\"Prevalence (NEG1)\") + ylab(\"Prevalence (True_Sample)\")\n",
        "\n",
        "#Repeat\n",
        "#Base on NEG2 (collection control)\n",
        "\n",
        "ps5.2 <- phyloseq\n",
        "sample_data(ps5.2)$is.neg <- sample_data(ps5.2)$Sample_or_control == \"NEG2\"\n",
        "contamdf.prev05.2 <- isContaminant(ps5.2, method=\"prevalence\", neg=\"is.neg\", threshold=0.5)\n",
        "table(contamdf.prev05.2$contaminant)\n",
        "\n",
        "ps5.2.pa <- transform_sample_counts(ps5.2, function(abund) 1*(abund>0))\n",
        "ps5.2.pa.neg <- prune_samples(sample_data(ps5.2.pa)$Sample_or_control == \"NEG2\", ps5.2.pa)\n",
        "ps5.2.pa.pos <- prune_samples(sample_data(ps5.2.pa)$Sample_or_control == \"True_Sample\", ps5.2.pa)\n",
        "\n",
        "df.pa <- data.frame(pa.pos=taxa_sums(ps5.2.pa.pos), pa.neg=taxa_sums(ps5.2.pa.neg),\n",
        "                    contaminant=contamdf.prev$contaminant)\n",
        "\n",
        "ggplot(data=df.pa, aes(x=pa.neg, y=pa.pos, color=contaminant)) +\n",
        "  geom_point() +\n",
        "  xlab(\"Prevalence (NEG2)\") + ylab(\"Prevalence (True_Sample)\")\n",
        "\n",
        "\n",
        "#Exporting Contaminant Results\n",
        "#Saves contamination results in both Excel (.xlsx) and text (.txt) formats.\n",
        "\n",
        "library(\"writexl\")\n",
        "\n",
        "write_xlsx(contamdf.prev05,\"decontamination05_ASV.xlsx\", col_names = TRUE, format_headers = TRUE)\n",
        "write_xlsx(contamdf.prev05,\"decontamination05_ASV.xlsx\", col_names = TRUE, format_headers = TRUE)\n",
        "write_xlsx(contam.freq5,\"decontamination05_ASV.freq.xlsx\", col_names = TRUE, format_headers = TRUE)\n",
        "\n",
        "write.table(contamdf.prev05, \"decontamination_05_.txt\", sep=\"\\t\", quote = FALSE, col.names=NA)\n",
        "write.table(contamdf.prev05, \"decontamination_05_.txt\", sep=\"\\t\", quote = FALSE, col.names=NA)\n",
        "write.table(contam.freq5, \"decontamination.freq_05_.txt\", sep=\"\\t\", quote = FALSE, col.names=NA)\n",
        "\n",
        "#I did the same with 5.1 and 5.2\n",
        "\n",
        "#Saving Processed Taxonomy & ASV Tables. Saves taxonomy and ASV tables after decontamination.\n",
        "\n",
        "unique(tax_table(phyloseq_no_after5)[,\"ASV_ID\"])\n",
        "\n",
        "write.table(tax_table(phyloseq_no_after5), \"trim_tax_table_ASVID.txt\", sep=\"\\t\", quote = FALSE, col.names=NA)\n",
        "write.table(t(otu_table(phyloseq_no_after5)), \"trim_seq_table_ASVID.txt\", sep=\"\\t\", quote = FALSE, col.names=NA)\n",
        "\n",
        "\n",
        "#Remove controls for phyloseq\n",
        "phyloseq_before_withoutneg = subset_samples(phyloseq, Sample_or_control %in% c(\"True_Sample\"))\n",
        "phyloseq_before_withoutneg\n",
        "\n",
        "\n",
        "#Remove Contaminants for ps5\n",
        "ps5.cleaned05 <- prune_taxa(!contamdf.prev05$contaminant, ps5)  # Remove contaminants from ps5\n",
        "phyloseq_5_withoutneg = subset_samples(ps5.cleaned05, Sample_or_control %in% c(\"True_Sample\")) #Remove control samples\n",
        "phyloseq_5_withoutneg\n",
        "\n",
        "#I applied the same for 0.6 and 0.8"
      ],
      "metadata": {
        "id": "wBWde5TG__a6"
      },
      "execution_count": null,
      "outputs": []
    },
    {
      "cell_type": "markdown",
      "source": [
        "## Relative abundance"
      ],
      "metadata": {
        "id": "4LYjcMoxmW4p"
      }
    },
    {
      "cell_type": "code",
      "source": [
        "#Remove singletons\n",
        "ps_rel <- filter_taxa(ps, function(x) sum(x > 0) > (0.2*length(x)), TRUE)\n",
        "\n",
        "#Summarizes the phyloseq object ps (e.g., number of taxa, samples, reads).\n",
        "microbiome::summarize_phyloseq(ps)\n",
        "\n",
        "ps2 <- ps\n",
        "\n",
        "#ps2.rel converts the data to relative abundance (compositional transformation).\n",
        "ps2.rel <- microbiome::transform(ps2, \"compositional\")\n",
        "\n",
        "\n",
        "#Aggregate Rare Taxa\n",
        "ps2.ASV.rel <- aggregate_rare(ps2.rel, level = \"ASV_ID\", detection = 0.01, prevalence = 0.1)\n",
        "ps2.phy.rel <- aggregate_rare(ps2.rel, level = \"Phylum\", detection = 0.05, prevalence = 0.1)\n",
        "ps2.fam.rel <- aggregate_rare(ps2.rel, level = \"Family\", detection = 0.05, prevalence = 0.1)\n",
        "ps2.gen.rel <- aggregate_rare(ps2.rel, level = \"Genus\", detection = 0.05, prevalence = 0.1)\n",
        "\n",
        "#Define the color palette (I also have this for Family, Phylum and ASV level)\n",
        "colorsge <- c(\"Bacillus\" = \"#2A363BFF\",\n",
        "              \"Cutibacterium\" = \"#749E89FF\",\n",
        "              \"Pedomicrobium\" = \"#FFB6C1\",\n",
        "              \"Other\" = \"#FECEA8FF\",\n",
        "              \"Pseudomonas\" = \"#FF847CFF\",\n",
        "              \"Staphylococcus\" = \"#9F6E71FF\",\n",
        "              \"Unknown\" = \"#41507BFF\",\n",
        "              \"Sediminibacterium\" = \"#99B898FF\",\n",
        "              \"Acinetobacter\" = \"#ABCCBEFF\",\n",
        "              \"Corynebacterium\" = \"#E3CACFFF\")\n",
        "\n",
        "\n",
        "#Creates a bar plot showing relative abundance per ASV.\n",
        "p_avg_ASV <- plot_composition(ps2.ASV.rel, average_by = \"Group\") +\n",
        "  guides(fill = guide_legend(ncol = 1)) +\n",
        "  labs(x = \"Group\",\n",
        "       y = \"Relative Abundance\",\n",
        "       title = \"Before Decontam with PMA - SILVA 138.2\") +\n",
        "  theme_bw() +\n",
        "  theme(axis.text.x = element_text(angle = 90, vjust = 0.5, hjust = 1),\n",
        "        axis.ticks.x = element_blank(),\n",
        "        strip.background = element_rect(fill = \"white\"))\n",
        "\n",
        "print(p_avg_ASV)\n",
        "\n",
        "\n",
        "#Plots phylum-level relative abundance averaged by group.\n",
        "p_avg_phy <- plot_composition(ps2.phy.rel, average_by = \"Group\") +\n",
        "  guides(fill = guide_legend(ncol = 1)) +\n",
        "  labs(x = \"Group\",\n",
        "       y = \"Relative abundance\",\n",
        "       title = \"Before Decontam - SILVA_138.2\") +\n",
        "  scale_fill_manual(\"Phylum\", values = colorsph) +\n",
        "  theme_bw() +\n",
        "  theme(axis.text.x = element_text(angle = 90, vjust = 0.5, hjust=1))\n",
        "p_avg_phy\n",
        "\n",
        "\n",
        "#Plots family-level relative abundance averaged by group.\n",
        "p_avg_fam <- plot_composition(ps2.fam.rel,\n",
        "                              average_by = \"Group\") +\n",
        "  guides(fill = guide_legend(ncol = 1)) +\n",
        "  labs(x = \"Group\",\n",
        "       y = \"Relative abundance\",\n",
        "       title = \"Before Decontam - SILVA_138.2\") +\n",
        "  scale_fill_manual(\"Family\", values = colorsfa) +\n",
        "  theme_bw() +\n",
        "  theme(axis.text.x = element_text(angle = 90, vjust = 0.5, hjust=1))\n",
        "p_avg_fam\n",
        "\n",
        "\n",
        "\n",
        "#Plots genus-level relative abundance averaged by group.\n",
        "p_avg_gen <- plot_composition(ps2.gen.rel,\n",
        "                              average_by = \"Group\") +\n",
        "  guides(fill = guide_legend(ncol = 1)) +\n",
        "  labs(x = \"Group\",\n",
        "       y = \"Relative abundance\",\n",
        "       title = \"Before Decontam - SILVA_138.2\") +\n",
        "  scale_fill_manual(\"Genus\", values = colorsge) +\n",
        "  theme_bw() +\n",
        "  theme(axis.text.x = element_text(angle = 90, vjust = 0.5, hjust=1)) +\n",
        "  guides(fill = guide_legend(ncol = 1))\n",
        "p_avg_gen\n",
        "\n",
        "\n",
        "# I did the same with 0.5, 0.6 and 0.8"
      ],
      "metadata": {
        "id": "NpLp06bznzgq"
      },
      "execution_count": null,
      "outputs": []
    },
    {
      "cell_type": "markdown",
      "source": [
        "## Alfa diversity"
      ],
      "metadata": {
        "id": "d1B8eCFBhzsY"
      }
    },
    {
      "cell_type": "code",
      "source": [
        "# Load libraries\n",
        "library(ggplot2)      # For plotting\n",
        "library(dplyr)        # Data manipulation\n",
        "library(tidyr)        # Data transformation\n",
        "library(phyloseq)     # Microbiome data analysis\n",
        "library(microbiome)   # Diversity and evenness calculations\n",
        "library(ggpubr)       # Statistical comparisons (stat_compare_means)\n",
        "\n",
        "\n",
        "\n",
        "#Calculates Chao1, Shannon, and Observed alpha diversity indices for ps\n",
        "tab <- microbiome::alpha(ps, index = c(\"Chao1\", \"Shannon\", \"Observed\"))\n",
        "\n",
        "#Extracts metadata and adds the computed diversity values to the ps.meta dataframe.\n",
        "ps.meta <- meta(ps)\n",
        "ps.meta$Shannon <- tab$diversity_shannon\n",
        "ps.meta$chao1 <- tab$chao1\n",
        "ps.meta$Observed <- tab$observed\n",
        "\n",
        "#evenness index\n",
        "evenness <- microbiome::evenness(ps)\n",
        "\n",
        "#Converts the evenness results into a dataframe.\n",
        "evenness_df <- data.frame(SampleID = rownames(evenness), Evenness = evenness$pielou)\n",
        "\n",
        "#Merges evenness values with sample metadata.\n",
        "metadata <- data.frame(sample_data(ps))\n",
        "evenness_df <- merge(evenness_df, metadata, by.x = \"SampleID\", by.y = \"row.names\")\n",
        "\n",
        "\n",
        "#Creates a boxplot of the EVENNESS index, grouped by Group (with and without PMA).\n",
        "ggplot(evenness_df, aes(x = Group, y = Evenness, fill = Group)) +\n",
        "  geom_boxplot(alpha = 0.6) +\n",
        "  geom_jitter(width = 0.2, alpha = 0.5, color = \"black\") +\n",
        "  scale_fill_manual(values = c(\"without PMA\" = \"steelblue\", \"with PMA\" = \"coral\")) +\n",
        "  labs(title = \"Evenness Index Distribution\", y = \"Evenness (Pielou's Index)\") +\n",
        "  theme_minimal()\n",
        "\n",
        "\n",
        "#Creates a dataframe containing the OBSERVED ASV counts and merges it with metadata.\n",
        "diversity_metrics <- data.frame(SampleID = rownames(tab),\n",
        "                                Observed_ASVs = tab$observed)\n",
        "diversity_metrics <- merge(diversity_metrics, ps.meta, by.x = \"SampleID\", by.y = \"row.names\")\n",
        "diversity_metrics$Group <- as.factor(diversity_metrics$Group)\n",
        "\n",
        "#Creates a boxplot of the distribution of observed ASVs per group.\n",
        "ggplot(diversity_metrics, aes(x = Group, y = Observed_ASVs, fill = Group)) +\n",
        "  geom_boxplot(alpha = 0.6) +\n",
        "  geom_jitter(width = 0.2, alpha = 0.5, color = \"black\") +\n",
        "  scale_fill_manual(values = c(\"with PMA\" = \"coral\", \"without PMA\" = \"steelblue\")) +\n",
        "  labs(title = \"Observed ASVs Distribution by Group\", y = \"Observed ASVs\", x = \"Group\") +\n",
        "  theme_minimal()\n",
        "\n",
        "\n",
        "#Shannon Diversity\n",
        "p.shannon <- boxplot_alpha(ps1_filtered,\n",
        "                           index = \"shannon\",\n",
        "                           x_var = \"Group\",\n",
        "                           na.rm = TRUE)\n",
        "\n",
        "p.shannon <- p.shannon + theme_minimal() +\n",
        "  labs(x=\"Group\", y=\"Shannon diversity\") +\n",
        "  theme(axis.text = element_text(size=12),\n",
        "        axis.title = element_text(size=16),\n",
        "        legend.text = element_text(size=12),\n",
        "        legend.title = element_text(size=16))\n",
        "\n",
        "#Computes statistical comparisons between groups and adds them to the plot.\n",
        "stat <- levels(ps1.meta$group)\n",
        "stat.pairs <- combn(seq_along(stat), 2, simplify = FALSE, FUN = function(i)stat[i])\n",
        "p.shannon <- p.shannon + stat_compare_means(comparisons = stat.pairs, size = 7)\n",
        "print(p.shannon)\n",
        "\n",
        "\n",
        "#Chao1 Diversity\n",
        "p.chao <- boxplot_alpha(ps,\n",
        "                        index = \"chao1\",\n",
        "                        x_var = \"Group\",\n",
        "                        na.rm = TRUE)\n",
        "\n",
        "p.chao <- p.chao + theme_minimal() +\n",
        "  labs(x=\"Group\", y=\"Chao1 diversity\") +\n",
        "  theme(axis.text = element_text(size=12),\n",
        "        axis.title = element_text(size=16),\n",
        "        legend.text = element_text(size=12),\n",
        "        legend.title = element_text(size=16))\n",
        "\n",
        "#Adds statistical comparisons to the Chao1 diversity plot.\n",
        "p.chao <- p.chao + stat_compare_means(comparisons = stat.pairs)\n",
        "print(p.chao)\n",
        "\n",
        "#I did the same with differents phyloseq's (0.5, 0.6 and 0.8) and differents variables (SCC, microbiological, etc)"
      ],
      "metadata": {
        "id": "m2zp7H4zh2wC"
      },
      "execution_count": null,
      "outputs": []
    },
    {
      "cell_type": "markdown",
      "source": [
        "## Beta diversity"
      ],
      "metadata": {
        "id": "yByOV6B_q5LK"
      }
    },
    {
      "cell_type": "code",
      "source": [
        "library(phyloseq)       # For microbiome data analysis\n",
        "library(ggplot2)        # For data visualization\n",
        "library(vegan)          # For PERMANOVA (adonis2)\n",
        "library(ggrepel)        # For improved text labeling in plots\n",
        "library(pairwiseAdonis) # For pairwise PERMANOVA analysis\n",
        "\n",
        "\n",
        "#This is an example how I subset the group (with and without PMA). This filters the phyloseq object, keeping only samples where Group == \"with PMA\".\n",
        "ps2.rel_PMA <- subset_samples(ps, Group == \"with PMA\")\n",
        "\n",
        "#Unweighted UniFrac Distance & PCoA Ordination\n",
        "\n",
        "#Calculates Unweighted UniFrac distances for ps2.rel_PMA.\n",
        "wunifrac_dist = phyloseq::distance(ps2.rel_PMA, method=\"unifrac\", weighted=FALSE)\n",
        "\n",
        "#Performs Principal Coordinates Analysis (PCoA) on the distance matrix.\n",
        "ordination10 = ordinate(ps2.rel_PMA, method=\"PCoA\", distance=wunifrac_dist)\n",
        "\n",
        "\n",
        "#Plots the PCoA ordination using Unweighted UniFrac distances.\n",
        "plot_ordination(ps2.rel_PMA, ordination10, color = \"SCC_1\") +\n",
        "  theme(\n",
        "    aspect.ratio = 1,\n",
        "    axis.text = element_text(size = 18),\n",
        "    axis.title = element_text(size = 24),\n",
        "    legend.text = element_text(size = 18),\n",
        "    legend.title = element_blank()\n",
        "  ) +\n",
        "  ggtitle(\"SCC_1_with_PMA_UW_Unifrac\") +\n",
        "  stat_ellipse(geom = \"polygon\", type = \"norm\", alpha = 0.1, fill = NA) +  # Removes ellipse fill\n",
        "  geom_point(size = 1.5) +\n",
        "  geom_text_repel(aes(label = Quarters), size = 2, max.overlaps = 130) +\n",
        "  theme_classic()\n",
        "\n",
        "\n",
        "# PERMANOVA (Adonis) to Test for Group Differences - Compares microbial composition across SCC (somatic cell count) levels.\n",
        "adonis2(wunifrac_dist ~ sample_data(ps2.rel_PMA)$SCC_1)\n",
        "\n",
        "\n",
        "#Pairwise Comparison of Samples in Metadata vs. Distance Matrix\n",
        "\n",
        "metadata_samples <- rownames(metadata)\n",
        "dist_samples <- labels(wunifrac_dist)\n",
        "\n",
        "#Identifies mismatches between the UniFrac distance matrix and metadata.\n",
        "extra_in_dist <- setdiff(dist_samples, metadata_samples)\n",
        "extra_in_metadata <- setdiff(metadata_samples, dist_samples)\n",
        "\n",
        "print(extra_in_dist)\n",
        "print(extra_in_metadata)\n",
        "\n",
        "#Filters dist_unifrac to include only common samples and Ensures matrix size matches metadata sample count.\n",
        "common_samples <- intersect(metadata_samples, dist_samples)\n",
        "dist_unifrac <- as.dist(as.matrix(dist_unifrac)[common_samples, common_samples])\n",
        "print(attr(dist_unifrac, \"Size\"))\n",
        "\n",
        "\n",
        "#Pairwise PERMANOVA\n",
        "pairwise_results <- pairwise.adonis(dist_unifrac, factors = metadata$SCC_1)\n",
        "print(pairwise_results)\n",
        "\n",
        "\n",
        "\n",
        "#Weighted UniFrac Distance & PCoA Ordination\n",
        "#Calculates Weighted UniFrac distances (accounts for relative abundance differences).\n",
        "wunifrac_dist = phyloseq::distance(ps2.rel_PMA, method=\"unifrac\", weighted=TRUE)\n",
        "\n",
        "#Performs PCoA on the weighted distance matrix.\n",
        "ordination10.1 = ordinate(ps2.rel_PMA, method=\"PCoA\", distance=wunifrac_dist)\n",
        "\n",
        "#PCoA Plot with Weighted UniFrac\n",
        "plot_ordination(ps2.rel_PMA, ordination10.1, color = \"SCC_1\") +\n",
        "  theme(\n",
        "    aspect.ratio = 1,\n",
        "    axis.text = element_text(size = 18),\n",
        "    axis.title = element_text(size = 24),\n",
        "    legend.text = element_text(size = 18),\n",
        "    legend.title = element_blank()\n",
        "  ) +\n",
        "  ggtitle(\"SCC_1_with_PMA_W_Unifrac\") +\n",
        "  stat_ellipse(geom = \"polygon\", type = \"norm\", alpha = 0.1, fill = NA) +\n",
        "  geom_point(size = 1.5) +\n",
        "  geom_text_repel(aes(label = Quarters), size = 2, max.overlaps = 130) +\n",
        "  theme_classic()\n",
        "\n",
        "\n",
        "# PERMANOVA (Adonis) to Test for Group Differences - Compares microbial composition across SCC (somatic cell count) levels.\n",
        "adonis2(wunifrac_dist ~ sample_data(ps2.rel_PMA)$SCC_1)\n",
        "\n",
        "\n",
        "#Pairwise Comparison of Samples in Metadata vs. Distance Matrix\n",
        "\n",
        "metadata_samples <- rownames(metadata)\n",
        "dist_samples <- labels(wunifrac_dist)\n",
        "\n",
        "#Identifies mismatches between the UniFrac distance matrix and metadata.\n",
        "extra_in_dist <- setdiff(dist_samples, metadata_samples)\n",
        "extra_in_metadata <- setdiff(metadata_samples, dist_samples)\n",
        "\n",
        "print(extra_in_dist)\n",
        "print(extra_in_metadata)\n",
        "\n",
        "#Filters dist_unifrac to include only common samples and Ensures matrix size matches metadata sample count.\n",
        "common_samples <- intersect(metadata_samples, dist_samples)\n",
        "dist_unifrac <- as.dist(as.matrix(dist_unifrac)[common_samples, common_samples])\n",
        "print(attr(dist_unifrac, \"Size\"))\n",
        "\n",
        "\n",
        "#Pairwise PERMANOVA\n",
        "pairwise_results <- pairwise.adonis(dist_unifrac, factors = metadata$SCC_1)\n",
        "print(pairwise_results)\n",
        "\n",
        "\n",
        "# I used the same code for differents phyloseq's (0.5, 0.6 and 0.8) and differents variables (SCC, Microbiological, etc)."
      ],
      "metadata": {
        "id": "WCdlzMMMrjFh"
      },
      "execution_count": null,
      "outputs": []
    },
    {
      "cell_type": "markdown",
      "source": [
        "## Differential abundance analysis"
      ],
      "metadata": {
        "id": "J8j2JKA6vfEn"
      }
    },
    {
      "cell_type": "code",
      "source": [
        "# Load required libraries\n",
        "library (\"DESeq2\")  # For differential expression analysis\n",
        "library (\"ggplot2\")  # For plotting\n",
        "library (\"ggrepel\")  # For adding text labels in plots\n",
        "library (\"phyloseq\")  # For phyloseq object handling\n",
        "library (\"dplyr\")  # For data manipulation\n",
        "\n",
        "\n",
        "#phyloseq_to_deseq2: Converts a phyloseq object into a DESeq2 object for differential expression analysis. Here, SCC_1 is the variable to model.\n",
        "ps_deseq <- phyloseq_to_deseq2(ps2.rel_w_PMA, ~ SCC_1)\n",
        "\n",
        "# Estimate Size Factors\n",
        "#apply(counts(ps_deseq), 1, ...): For each gene (ASV), computes the geometric mean of the counts to account for zero values.\n",
        "geoMeans <- apply(counts(ps_deseq), 1, function(x) if (all(x == 0)) NA else exp(mean(log(x[x > 0]))))\n",
        "\n",
        "#estimateSizeFactors: Estimates the scaling factors used to normalize count data.\n",
        "dds <- estimateSizeFactors(ps_deseq, geoMeans=geoMeans)\n",
        "\n",
        "#DESeq: Runs the differential expression analysis.\n",
        "dds <- DESeq(dds)\n",
        "\n",
        "#results(dds): Extracts the results from the DESeq2 analysis, which contains fold changes and p-values.\n",
        "res <- results(dds)\n",
        "\n",
        "#plotMA: Creates an MA plot (mean vs. fold-change), which is used to visualize the results of differential expression analysis.\n",
        "plotMA(res, main=\"DESeq2 MA Plot\", ylim=c(-5, 5))\n",
        "\n",
        "res_df <- as.data.frame(res)\n",
        "\n",
        "#res_df$significance: Labels significant results based on a threshold of p-value < 0.05 and absolute fold-change > 1.\n",
        "res_df$significance <- ifelse(res_df$pvalue < 0.05 & abs(res_df$log2FoldChange) > 1, \"Significant\", \"Not Significant\")\n",
        "\n",
        "#res_df$GroupSide: Categorizes results based on positive or negative log2 fold change (High/Low).\n",
        "res_df$GroupSide <- ifelse(res_df$log2FoldChange > 0, \"High\", \"Low\")\n",
        "\n",
        "\n",
        "#Visualize the result\n",
        "ggplot(res_df, aes(x = log2FoldChange, y = -log10(pvalue), color = GroupSide)) +\n",
        "  geom_point(alpha = 0.6, size = 5) +\n",
        "  scale_color_manual(values = color_palette) +\n",
        "  theme_minimal() +\n",
        "  xlab(\"Log2 Fold Change\") +\n",
        "  ylab(\"-Log10 p-value\") +\n",
        "  ggtitle(\"Volcano Plot of DESeq2 SCC_1 - WPMA before Decontam\") +\n",
        "  theme(legend.title = element_blank()) +\n",
        "  theme(legend.position = \"top\") +\n",
        "  geom_text_repel(aes(label = label), size = 3, box.padding = 0.3, point.padding = 0.3,color = \"black\", show.legend = FALSE)\n",
        "\n",
        "\n",
        "\n",
        "#Second option for graph\n",
        "#Lollipop graph\n",
        "\n",
        "#res_df_filtered: Filters the results for genera with significant fold changes (|log2FoldChange| > 0.5) and p-values < 0.05.\n",
        "res_df_filtered <- res_df %>%\n",
        "  filter(abs(log2FoldChange) > 0.5, pvalue < 0.05, !is.na(Genus))\n",
        "\n",
        "#Visualize the result\n",
        "ggplot(res_df_filtered, aes(x = log2FoldChange, y = Genus)) +\n",
        "  geom_segment(aes(xend = 0, yend = Genus), colour = \"grey50\") +\n",
        "  geom_point(size = 3, aes(colour = GroupSide)) +\n",
        "  scale_colour_manual(values = c(\"High\" = \"green\", \"Low\" = \"purple\"), limits = c(\"High\", \"Low\")) +\n",
        "  theme_bw() +\n",
        "  theme(panel.grid.major.y = element_blank(), panel.grid.major.x = element_blank()) +\n",
        "  facet_grid(scales = \"free_y\", space = \"free_y\") +\n",
        "  labs(x = \"Log2 Fold Change\", y = \"Genus\") +\n",
        "  ggtitle(\"Lollipop Plot with Horizontal Segments by Group - SCC_1 - WPMA\")\n",
        "\n",
        "\n",
        "# I did the samewith differents phyloseq's (0.5, 0.6 and 0.8) and differents variables (SCC, Microbiological, etc).\n",
        "\n",
        "\n",
        "\n",
        "\n",
        "\n"
      ],
      "metadata": {
        "id": "vbqChcjivhK1"
      },
      "execution_count": null,
      "outputs": []
    }
  ]
}